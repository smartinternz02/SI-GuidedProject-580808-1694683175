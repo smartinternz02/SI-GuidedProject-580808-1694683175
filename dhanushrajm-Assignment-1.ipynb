{
 "cells": [
  {
   "cell_type": "markdown",
   "id": "2f0af42b",
   "metadata": {},
   "source": [
    "Task-1: Create a pandas dataframe (Dataframe name as 'df' with numpy random values (4 features and 4 observation)"
   ]
  },
  {
   "cell_type": "markdown",
   "id": "6c291132",
   "metadata": {},
   "source": [
    "Importing the dependencies:"
   ]
  },
  {
   "cell_type": "code",
   "execution_count": 2,
   "id": "c8e6f453",
   "metadata": {},
   "outputs": [],
   "source": [
    "import numpy as np\n",
    "import pandas as pd"
   ]
  },
  {
   "cell_type": "code",
   "execution_count": 7,
   "id": "f36d5bbd",
   "metadata": {},
   "outputs": [
    {
     "name": "stdout",
     "output_type": "stream",
     "text": [
      "          a         b         c         d\n",
      "0  0.304242  0.524756  0.431945  0.291229\n",
      "1  0.611853  0.139494  0.292145  0.366362\n",
      "2  0.456070  0.785176  0.199674  0.514234\n",
      "3  0.592415  0.046450  0.607545  0.170524\n"
     ]
    }
   ],
   "source": [
    "#Given: 4 features and 4 observations\n",
    "#random values\n",
    "r_data = np.random.rand(4,4)\n",
    "\n",
    "#creating dataframe df:\n",
    "df = pd.DataFrame(r_data, columns=['a','b','c','d'])\n",
    "\n",
    "print(df)"
   ]
  },
  {
   "cell_type": "markdown",
   "id": "e3142267",
   "metadata": {},
   "source": [
    "Task-2: Rename the task-1 'df' dataframe column names to 'Random value 1', 'Random value 2', 'Random value 3' & 'Random value 4'"
   ]
  },
  {
   "cell_type": "code",
   "execution_count": 8,
   "id": "4d6b9905",
   "metadata": {},
   "outputs": [
    {
     "name": "stdout",
     "output_type": "stream",
     "text": [
      "   Random value 1  Random value 2  Random value 3  Random value 4\n",
      "0        0.304242        0.524756        0.431945        0.291229\n",
      "1        0.611853        0.139494        0.292145        0.366362\n",
      "2        0.456070        0.785176        0.199674        0.514234\n",
      "3        0.592415        0.046450        0.607545        0.170524\n"
     ]
    }
   ],
   "source": [
    "#Renaming columns:\n",
    "new_columns = { 'a': 'Random value 1',\n",
    "                'b': 'Random value 2',\n",
    "                'c': 'Random value 3',\n",
    "                'd': 'Random value 4'}\n",
    "\n",
    "df = df.rename(columns=new_columns)\n",
    "\n",
    "print(df)"
   ]
  },
  {
   "cell_type": "markdown",
   "id": "ab7b0d92",
   "metadata": {},
   "source": [
    "Task-3: Find the descriptive statistics of the 'df' dataframe."
   ]
  },
  {
   "cell_type": "code",
   "execution_count": 9,
   "id": "250d9736",
   "metadata": {},
   "outputs": [
    {
     "data": {
      "text/html": [
       "<div>\n",
       "<style scoped>\n",
       "    .dataframe tbody tr th:only-of-type {\n",
       "        vertical-align: middle;\n",
       "    }\n",
       "\n",
       "    .dataframe tbody tr th {\n",
       "        vertical-align: top;\n",
       "    }\n",
       "\n",
       "    .dataframe thead th {\n",
       "        text-align: right;\n",
       "    }\n",
       "</style>\n",
       "<table border=\"1\" class=\"dataframe\">\n",
       "  <thead>\n",
       "    <tr style=\"text-align: right;\">\n",
       "      <th></th>\n",
       "      <th>Random value 1</th>\n",
       "      <th>Random value 2</th>\n",
       "      <th>Random value 3</th>\n",
       "      <th>Random value 4</th>\n",
       "    </tr>\n",
       "  </thead>\n",
       "  <tbody>\n",
       "    <tr>\n",
       "      <th>count</th>\n",
       "      <td>4.000000</td>\n",
       "      <td>4.000000</td>\n",
       "      <td>4.000000</td>\n",
       "      <td>4.000000</td>\n",
       "    </tr>\n",
       "    <tr>\n",
       "      <th>mean</th>\n",
       "      <td>0.491145</td>\n",
       "      <td>0.373969</td>\n",
       "      <td>0.382827</td>\n",
       "      <td>0.335587</td>\n",
       "    </tr>\n",
       "    <tr>\n",
       "      <th>std</th>\n",
       "      <td>0.142582</td>\n",
       "      <td>0.343548</td>\n",
       "      <td>0.177650</td>\n",
       "      <td>0.143846</td>\n",
       "    </tr>\n",
       "    <tr>\n",
       "      <th>min</th>\n",
       "      <td>0.304242</td>\n",
       "      <td>0.046450</td>\n",
       "      <td>0.199674</td>\n",
       "      <td>0.170524</td>\n",
       "    </tr>\n",
       "    <tr>\n",
       "      <th>25%</th>\n",
       "      <td>0.418113</td>\n",
       "      <td>0.116233</td>\n",
       "      <td>0.269027</td>\n",
       "      <td>0.261053</td>\n",
       "    </tr>\n",
       "    <tr>\n",
       "      <th>50%</th>\n",
       "      <td>0.524242</td>\n",
       "      <td>0.332125</td>\n",
       "      <td>0.362045</td>\n",
       "      <td>0.328795</td>\n",
       "    </tr>\n",
       "    <tr>\n",
       "      <th>75%</th>\n",
       "      <td>0.597274</td>\n",
       "      <td>0.589861</td>\n",
       "      <td>0.475845</td>\n",
       "      <td>0.403330</td>\n",
       "    </tr>\n",
       "    <tr>\n",
       "      <th>max</th>\n",
       "      <td>0.611853</td>\n",
       "      <td>0.785176</td>\n",
       "      <td>0.607545</td>\n",
       "      <td>0.514234</td>\n",
       "    </tr>\n",
       "  </tbody>\n",
       "</table>\n",
       "</div>"
      ],
      "text/plain": [
       "       Random value 1  Random value 2  Random value 3  Random value 4\n",
       "count        4.000000        4.000000        4.000000        4.000000\n",
       "mean         0.491145        0.373969        0.382827        0.335587\n",
       "std          0.142582        0.343548        0.177650        0.143846\n",
       "min          0.304242        0.046450        0.199674        0.170524\n",
       "25%          0.418113        0.116233        0.269027        0.261053\n",
       "50%          0.524242        0.332125        0.362045        0.328795\n",
       "75%          0.597274        0.589861        0.475845        0.403330\n",
       "max          0.611853        0.785176        0.607545        0.514234"
      ]
     },
     "execution_count": 9,
     "metadata": {},
     "output_type": "execute_result"
    }
   ],
   "source": [
    "#Describe function:\n",
    "df.describe()"
   ]
  },
  {
   "cell_type": "markdown",
   "id": "8adb04b5",
   "metadata": {},
   "source": [
    "Task-4: Check for the null values in 'df' and find the data type of the columns."
   ]
  },
  {
   "cell_type": "code",
   "execution_count": 12,
   "id": "44c620b2",
   "metadata": {},
   "outputs": [
    {
     "name": "stdout",
     "output_type": "stream",
     "text": [
      "Null values: \n",
      "    Random value 1  Random value 2  Random value 3  Random value 4\n",
      "0           False           False           False           False\n",
      "1           False           False           False           False\n",
      "2           False           False           False           False\n",
      "3           False           False           False           False\n",
      "<class 'pandas.core.frame.DataFrame'>\n",
      "RangeIndex: 4 entries, 0 to 3\n",
      "Data columns (total 4 columns):\n",
      " #   Column          Non-Null Count  Dtype  \n",
      "---  ------          --------------  -----  \n",
      " 0   Random value 1  4 non-null      float64\n",
      " 1   Random value 2  4 non-null      float64\n",
      " 2   Random value 3  4 non-null      float64\n",
      " 3   Random value 4  4 non-null      float64\n",
      "dtypes: float64(4)\n",
      "memory usage: 256.0 bytes\n"
     ]
    }
   ],
   "source": [
    "null_values = df.isnull()\n",
    "print(\"Null values: \\n\", null_values)\n",
    "\n",
    "df.info()"
   ]
  },
  {
   "cell_type": "markdown",
   "id": "8b8c501a",
   "metadata": {},
   "source": [
    "Task-5: Display the 'Random value 2' & 'Random value 3' columns with location method and index location method."
   ]
  },
  {
   "cell_type": "code",
   "execution_count": 13,
   "id": "a668cf6c",
   "metadata": {},
   "outputs": [
    {
     "name": "stdout",
     "output_type": "stream",
     "text": [
      "Using location method:\n",
      "    Random value 2  Random value 3\n",
      "0        0.524756        0.431945\n",
      "1        0.139494        0.292145\n",
      "2        0.785176        0.199674\n",
      "3        0.046450        0.607545\n",
      "\n",
      "Using index location method:\n",
      "    Random value 2  Random value 3\n",
      "0        0.524756        0.431945\n",
      "1        0.139494        0.292145\n",
      "2        0.785176        0.199674\n",
      "3        0.046450        0.607545\n"
     ]
    }
   ],
   "source": [
    "columns_loc = df.loc[:, ['Random value 2', 'Random value 3']]\n",
    "print(\"Using location method:\\n\", columns_loc)\n",
    "\n",
    "# Display using index-based location (.iloc)\n",
    "columns_iloc = df.iloc[:, [1, 2]]\n",
    "print(\"\\nUsing index location method:\\n\", columns_iloc)"
   ]
  }
 ],
 "metadata": {
  "kernelspec": {
   "display_name": "Python 3 (ipykernel)",
   "language": "python",
   "name": "python3"
  },
  "language_info": {
   "codemirror_mode": {
    "name": "ipython",
    "version": 3
   },
   "file_extension": ".py",
   "mimetype": "text/x-python",
   "name": "python",
   "nbconvert_exporter": "python",
   "pygments_lexer": "ipython3",
   "version": "3.9.13"
  }
 },
 "nbformat": 4,
 "nbformat_minor": 5
}
